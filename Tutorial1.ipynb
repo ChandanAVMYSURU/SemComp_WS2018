{
  "nbformat": 4,
  "nbformat_minor": 0,
  "metadata": {
    "colab": {
      "name": "Tutorial1.ipynb",
      "version": "0.3.2",
      "provenance": [],
      "include_colab_link": true
    },
    "kernelspec": {
      "name": "python3",
      "display_name": "Python 3"
    }
  },
  "cells": [
    {
      "cell_type": "markdown",
      "metadata": {
        "id": "view-in-github",
        "colab_type": "text"
      },
      "source": [
        "[![Open In Colab](https://colab.research.google.com/assets/colab-badge.svg)](https://colab.research.google.com/github/dgromann/SemComp_WS2018/blob/master/Tutorial1.ipynb)"
      ]
    },
    {
      "metadata": {
        "id": "ZvZfzSn7bXVl",
        "colab_type": "text"
      },
      "cell_type": "markdown",
      "source": [
        "# Lesson 0.0.0: Store this notebook! \n",
        "\n",
        "Go to \"File\" and make sure you store this file as a local copy to either GitHub or your Google Drive. "
      ]
    },
    {
      "metadata": {
        "id": "jHzL2Qjivc0N",
        "colab_type": "text"
      },
      "cell_type": "markdown",
      "source": [
        "# Lesson 0.0: Hello World\n",
        "\n",
        "Everyone make their own cell, and print \"hello world\".\n",
        "\n",
        "1. Click on the cell below with gray shadowing. The cell will highlight.\n",
        "1. Click the \"+ CODE\" button in the header. This will create a cell in the next line.\n",
        "    * optional: keyboard shortcut: `CMD+M B`\n",
        "1. In this cell, enter:\n",
        "\n"
      ]
    },
    {
      "metadata": {
        "id": "RLuPiLYa2AdP",
        "colab_type": "code",
        "colab": {}
      },
      "cell_type": "code",
      "source": [
        "#Print your name with the following statement\n",
        "#print(\"Your name says \\\"Hello Semantic Computing group\\\"!\")\n",
        "\n",
        "#for example\n",
        "print(\"Dagmar says \\\"Hello Semantic Computing group\\\"!\")"
      ],
      "execution_count": 0,
      "outputs": []
    },
    {
      "metadata": {
        "id": "GCrI7d9i2BXz",
        "colab_type": "text"
      },
      "cell_type": "markdown",
      "source": [
        "4. Click on the \"play\" button to the left of the cell. The first time you run a cell in a colab notebook it might take as long as 10-20 seconds to finish. After that, it's a lot faster.\n",
        "    * optional: keyboard shortcut: `SHIFT+ENTER`\n",
        "    \n",
        "-----------"
      ]
    },
    {
      "metadata": {
        "id": "1FdcGIjPuBYP",
        "colab_type": "text"
      },
      "cell_type": "markdown",
      "source": [
        "# Lesson 0.1: Python Basics\n",
        "\n",
        "Python is a programming language that uses indentation to structure statements into blocks, instead of brackets. Change the example below so that it can run correctly."
      ]
    },
    {
      "metadata": {
        "id": "nF_cL6UMusZG",
        "colab_type": "code",
        "colab": {}
      },
      "cell_type": "code",
      "source": [
        "#Exercise: change the indentation to correct the statement below\n",
        "x = 1\n",
        "if x == 1:\n",
        "print(\"x is 1.\"\")"
      ],
      "execution_count": 0,
      "outputs": []
    },
    {
      "metadata": {
        "id": "mC68rLi-u_KX",
        "colab_type": "text"
      },
      "cell_type": "markdown",
      "source": [
        "Variables and types in Python are very similar to other programming languages. Run the examples below to see what happens. \n",
        "\n",
        "Do the following exercises in the code cell below:\n",
        "\n",
        "1.   Try to explain what happenes int he last two lines in a comment starting with your name, such as #Dagmar: this is my comment\n",
        "2.   Run and print the results of the following two operations: 12/(4+3) and 3 * 3 in the code cell below and add your name as a comment (e.g. #Dagmar) before you write your code. \n",
        "3. Print the string ```my_string``` three times (try to do so without having to repeat the variable in the print statement), again please add your name in the comment before you write youre code (e.g. #Dagmar)\n",
        "4. Print the arry ```my_array```five times to the screen without repeating the actual variable in the print statement. \n",
        "\n",
        "\n",
        "\n",
        "\n",
        "\n"
      ]
    },
    {
      "metadata": {
        "id": "SPtFMmfM10BY",
        "colab_type": "code",
        "colab": {},
        "cellView": "code"
      },
      "cell_type": "code",
      "source": [
        "#Variables and types\n",
        "my_int = 7\n",
        "print(my_int)\n",
        "my_float = 7.0\n",
        "print(my_float)\n",
        "\n",
        "#Exercise 1:\n",
        "#Dagmar: this is my explanation for the following two lines\n",
        "my_float = int(my_float)\n",
        "print(my_float)\n",
        "\n",
        "my_string = \"Semantic Computing\"\n",
        "print(my_string)\n",
        "my_array = [\"Semantic\", \"Computing\"]\n",
        "print(my_array)\n",
        "\n",
        "#Exercise 2: \n",
        "\n",
        "#Exercise 3: \n",
        "\n",
        "#Exercise 4: \n"
      ],
      "execution_count": 0,
      "outputs": []
    },
    {
      "metadata": {
        "id": "DOgOijM74rqf",
        "colab_type": "text"
      },
      "cell_type": "markdown",
      "source": [
        "Let's look at some additional string operations. If you can multiply a string with itself as in the cell above, how can you concatente strings?"
      ]
    },
    {
      "metadata": {
        "id": "Sj8ut_tk9Cwg",
        "colab_type": "code",
        "colab": {}
      },
      "cell_type": "code",
      "source": [
        "#String operations\n",
        "first = \"first\"\n",
        "second = \"second\"\n",
        "third = first + \" \" + second \n",
        "print(\"First and second concatenated: \", third)\n",
        "\n",
        "one_more = \"Don't worry about apostrophes\"\n",
        "print(one_more)\n",
        "\n",
        "#Several variables can be initialized at the same time\n",
        "a,b = 1,2\n",
        "print(\"Initializing and printing: \",a,b,a+b)\n",
        "\n",
        "#However different types cannot be printed together\n",
        "#print(\"This does not work: \", first + a + b)\n",
        "print(\"This works: \", first, a, b)\n"
      ],
      "execution_count": 0,
      "outputs": []
    },
    {
      "metadata": {
        "id": "wjWERhaDw9k2",
        "colab_type": "text"
      },
      "cell_type": "markdown",
      "source": [
        "# Lesson 1: The LESK algorithm \n",
        "\n",
        "Instrcuctions of tutorial 1 "
      ]
    },
    {
      "metadata": {
        "id": "FEaHj0r8HqUF",
        "colab_type": "code",
        "colab": {}
      },
      "cell_type": "code",
      "source": [
        "#Outcomment for the first time you run this cell only:\n",
        "#import nltk \n",
        "#nltk.download('book')\n",
        "\n",
        "from nltk.book import * \n",
        "from nltk.corpus import wordnet as wn\n",
        "from nltk.stem import PorterStemmer\n",
        "\n",
        "print(\"Length of text 2\", len(text2))\n",
        "print(\"Length of deduplicated text 2\", len(set(text2)))\n",
        "\n",
        "ps = PorterStemmer()\n",
        "\n",
        "#from google.colab import files\n",
        "#files.upload() \n",
        "\n",
        "text = open(\"text.txt\", \"r\")\n",
        "eval = open(\"evaluation.txt\", \"r\")\n",
        "\n",
        "def lesk(sentence, ambiguous_word):\n",
        "  max_overlaps = 0\n",
        "  lesk_dictionary = []\n",
        "  lesk_sense = \"\"\n",
        "  context = sentence.split()\n",
        "  \n",
        "  for sense in wn.synsets(ambiguous_word):\n",
        "    lesk_dictionary += sense.definition().split()\n",
        "    lesk_dictionary += sense.lemma_names()\n",
        "    \n",
        "    overlaps = set(lesk_dictionary).intersection(context)\n",
        "    \n",
        "    if len(overlaps) > max_overlaps:\n",
        "      lesk_sense = sense\n",
        "      max_overlaps = len(overlaps)\n",
        "    \n",
        "  return str(lesk_sense)\n",
        "\n",
        "results = dict()\n",
        "for result in eval.readlines()[1:]:\n",
        "    results[result.split(\";\")[1]] = result.split(\";\")[2]\n",
        "\n",
        "corr_results = 0\n",
        "lines = []\n",
        "for line in text.readlines()[1:]:\n",
        "  lines.append(line)\n",
        "  word = line.split(\";\")[0]\n",
        "  sentence = line.split(\";\")[2]\n",
        "  \n",
        "  line_result = lesk(sentence, word)\n",
        "  print(\"Input sentence: \", sentence, \"Target word: \", word, \"\\n\", \n",
        "        \"Actual synset: \", results[line.split(\";\")[1]].strip(), \", \n",
        "        Predicted synset: \", line_result.strip(), \"\\n\")\n",
        "\n",
        "  \n",
        "  if line_result and (results[line.split(\";\")[1]].strip() == line_result.strip()):\n",
        "    corr_results += 1\n",
        "\n",
        "print(\"Correct results: \", corr_results)\n",
        "print(\"Percentage: \", corr_results/len(results))"
      ],
      "execution_count": 0,
      "outputs": []
    }
  ]
}