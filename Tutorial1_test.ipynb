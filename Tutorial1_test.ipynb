{
  "nbformat": 4,
  "nbformat_minor": 0,
  "metadata": {
    "colab": {
      "name": "Tutorial1.ipynb",
      "version": "0.3.2",
      "provenance": [],
      "include_colab_link": true
    },
    "kernelspec": {
      "name": "python3",
      "display_name": "Python 3"
    }
  },
  "cells": [
    {
      "cell_type": "markdown",
      "metadata": {
        "id": "view-in-github",
        "colab_type": "text"
      },
      "source": [
        "[![Open In Colab](https://colab.research.google.com/assets/colab-badge.svg)](https://colab.research.google.com/github/dgromann/SemComp_WS2018/blob/master/Tutorial1_test.ipynb)"
      ]
    },
    {
      "metadata": {
        "id": "ZvZfzSn7bXVl",
        "colab_type": "text"
      },
      "cell_type": "markdown",
      "source": [
        "# Lesson 0.0.0: Store this notebook! \n",
        "\n",
        "Go to \"File\" and make sure you store this file as a local copy to either GitHub or your Google Drive. "
      ]
    },
    {
      "metadata": {
        "id": "jHzL2Qjivc0N",
        "colab_type": "text"
      },
      "cell_type": "markdown",
      "source": [
        "# Lesson 0.0: Hello World\n",
        "\n",
        "Everyone make their own cell, and print \"hello world\".\n",
        "\n",
        "1. Click on the cell below with gray shadowing. The cell will highlight.\n",
        "1. Click the \"+ CODE\" button in the header. This will create a cell in the next line.\n",
        "    * optional: keyboard shortcut: `CMD+M B`\n",
        "1. In this cell, enter:\n",
        "\n"
      ]
    },
    {
      "metadata": {
        "id": "RLuPiLYa2AdP",
        "colab_type": "code",
        "colab": {}
      },
      "cell_type": "code",
      "source": [
        "#Print your name with the following statement\n",
        "#print(\"Your name says \\\"Hello Semantic Computing group\\\"!\")\n",
        "\n",
        "#for example\n",
        "print(\"Dagmar says \\\"Hello Semantic Computing group\\\"!\")"
      ],
      "execution_count": 0,
      "outputs": []
    },
    {
      "metadata": {
        "id": "GCrI7d9i2BXz",
        "colab_type": "text"
      },
      "cell_type": "markdown",
      "source": [
        "4. Click on the \"play\" button to the left of the cell. The first time you run a cell in a colab notebook it might take as long as 10-20 seconds to finish. After that, it's a lot faster.\n",
        "    * optional: keyboard shortcut: `SHIFT+ENTER`\n",
        "    \n",
        "-----------"
      ]
    },
    {
      "metadata": {
        "id": "1FdcGIjPuBYP",
        "colab_type": "text"
      },
      "cell_type": "markdown",
      "source": [
        "# Lesson 0.1: Python Basics\n",
        "\n",
        "Python is a programming language that uses indentation to structure statements into blocks, instead of brackets. Change the example below so that it can run correctly."
      ]
    },
    {
      "metadata": {
        "id": "nF_cL6UMusZG",
        "colab_type": "code",
        "colab": {}
      },
      "cell_type": "code",
      "source": [
        "#Exercise: as a group, discuss how to change the statement below\n",
        "# to correct it - then test your solution by running this code cell \n",
        "# with the \"play\" symbol on the left\n",
        "x = 1\n",
        "if x == 1:\n",
        "print(\"x is 1.\"\")"
      ],
      "execution_count": 0,
      "outputs": []
    },
    {
      "metadata": {
        "id": "mC68rLi-u_KX",
        "colab_type": "text"
      },
      "cell_type": "markdown",
      "source": [
        "Variables and types in Python are very similar to other programming languages. Run the examples below to see what happens. \n",
        "\n",
        "Do the following exercises indicated in the code cell below:\n",
        "\n",
        "\n",
        "\n",
        "\n"
      ]
    },
    {
      "metadata": {
        "id": "SPtFMmfM10BY",
        "colab_type": "code",
        "colab": {},
        "cellView": "code"
      },
      "cell_type": "code",
      "source": [
        "#Variables and types\n",
        "my_int = 7\n",
        "print(my_int)\n",
        "my_float = 7.0\n",
        "print(my_float)\n",
        "\n",
        "#Exercise: Explain the following two lines, what happens?\n",
        "#Precede everything you write in a code cell with your name\n",
        "\n",
        "#Dagmar: this is my explanation for the following two lines\n",
        "my_float = int(my_float)\n",
        "print(my_float)\n",
        "\n",
        "\n",
        "my_string = \"Semantic Computing\"\n",
        "print(my_string)\n",
        "my_list = [\"Semantic\", \"Computing\"]\n",
        "print(my_list)"
      ],
      "execution_count": 0,
      "outputs": []
    },
    {
      "metadata": {
        "id": "gYYr9z-eEjS4",
        "colab_type": "code",
        "colab": {}
      },
      "cell_type": "code",
      "source": [
        "#Exercise: Run 12/(4+3) and 3*3 and print the results of both operations\n",
        "#Always precede any code you write with your name in a comment"
      ],
      "execution_count": 0,
      "outputs": []
    },
    {
      "metadata": {
        "id": "Yi8qazw5Emp4",
        "colab_type": "code",
        "colab": {}
      },
      "cell_type": "code",
      "source": [
        "#Exercise: Print the variable my_string three times without repeating \n",
        "#the variable itself \n",
        "#Always precede any code you write with your name in a comment"
      ],
      "execution_count": 0,
      "outputs": []
    },
    {
      "metadata": {
        "id": "iQLfxXoaEzAZ",
        "colab_type": "code",
        "colab": {}
      },
      "cell_type": "code",
      "source": [
        "#Exercise: Print the variable my_list again without repeating it \n",
        "#Always precede any code you write with your name in a comment"
      ],
      "execution_count": 0,
      "outputs": []
    },
    {
      "metadata": {
        "id": "5Oz_liBoEhTJ",
        "colab_type": "code",
        "colab": {}
      },
      "cell_type": "code",
      "source": [
        "#Some additional operators\n",
        "print(\"remainder = \", 11 % 3)\n",
        "print(\"squared = \", 11 ** 2)\n",
        "print(\"cubed = \", 11 ** 3)"
      ],
      "execution_count": 0,
      "outputs": []
    },
    {
      "metadata": {
        "id": "DOgOijM74rqf",
        "colab_type": "text"
      },
      "cell_type": "markdown",
      "source": [
        "Let's look at some additional string operations. If you can multiply a string with itself as in the cell above, how can you concatente strings?"
      ]
    },
    {
      "metadata": {
        "id": "Sj8ut_tk9Cwg",
        "colab_type": "code",
        "colab": {}
      },
      "cell_type": "code",
      "source": [
        "#String operations\n",
        "first = \"first\"\n",
        "second = \"second\"\n",
        "third = first + \" \" + second \n",
        "print(\"First and second concatenated: \", third)\n",
        "\n",
        "one_more = \"Don't worry about apostrophes\"\n",
        "print(one_more)"
      ],
      "execution_count": 0,
      "outputs": []
    },
    {
      "metadata": {
        "id": "VRIR23C6E7jr",
        "colab_type": "code",
        "colab": {}
      },
      "cell_type": "code",
      "source": [
        "#Several variables can be initialized at the same time\n",
        "a,b = 1,2\n",
        "print(\"Initializing and printing: \",a,b,a+b)\n",
        "\n",
        "#However different types cannot be printed together\n",
        "#print(\"This does not work: \", first + a + b)\n",
        "print(\"This works: \", first, a, b)"
      ],
      "execution_count": 0,
      "outputs": []
    },
    {
      "metadata": {
        "id": "_zG0OdiC_90W",
        "colab_type": "text"
      },
      "cell_type": "markdown",
      "source": [
        "Change the following float, integer, and string in a way that all three are printed with the print statements provided."
      ]
    },
    {
      "metadata": {
        "id": "2likxUgrAmZz",
        "colab_type": "code",
        "colab": {}
      },
      "cell_type": "code",
      "source": [
        "#Exercise: change the values of the three variables below so that their \n",
        "#values are printed by the test code\n",
        "mystring = None\n",
        "myfloat = None\n",
        "myint = None\n",
        "\n",
        "# test code\n",
        "if mystring == \"hello\":\n",
        "    print(\"String: %s\" % mystring)\n",
        "if isinstance(myfloat, float) and myfloat == 10.0:\n",
        "    print(\"Float: %f\" % myfloat)\n",
        "if isinstance(myint, int) and myint == 20:\n",
        "    print(\"Integer: %d\" % myint)"
      ],
      "execution_count": 0,
      "outputs": []
    },
    {
      "metadata": {
        "id": "d8Pv2iy_CYgE",
        "colab_type": "text"
      },
      "cell_type": "markdown",
      "source": [
        "The following cell shows you some additional list operations in Python."
      ]
    },
    {
      "metadata": {
        "id": "l0jWIknCDlrS",
        "colab_type": "code",
        "colab": {}
      },
      "cell_type": "code",
      "source": [
        "#Lists and arrays\n",
        "numbers = [1,2,3,4]\n",
        "more_numbers = [5,6,7,8]\n",
        "print(\"Concatenated: \", numbers + more_numbers)\n",
        "print(\"Lenght of lists: \", len(numbers))\n",
        "print(\"Number of elements: \", numbers.count(3))"
      ],
      "execution_count": 0,
      "outputs": []
    },
    {
      "metadata": {
        "id": "jLMEOLeNFuCd",
        "colab_type": "code",
        "colab": {}
      },
      "cell_type": "code",
      "source": [
        "#Exercise: copy this cell to a new cell in which you indicate your name\n",
        "#Then change the following three arrays so that the test code prints\n",
        "#the provided statements\n",
        "x = object()\n",
        "y = object()\n",
        "\n",
        "x_list = [x]\n",
        "y_list = [y]\n",
        "big_list = []\n",
        "\n",
        "print(\"x_list contains %d objects\" % len(x_list))\n",
        "print(\"y_list contains %d objects\" % len(y_list))\n",
        "print(\"big_list contains %d objects\" % len(big_list))\n",
        "\n",
        "# test code\n",
        "if x_list.count(x) == 10 and y_list.count(y) == 10:\n",
        "    print(\"Almost there...\")\n",
        "if big_list.count(x) == 10 and big_list.count(y) == 10:\n",
        "    print(\"Great!\")"
      ],
      "execution_count": 0,
      "outputs": []
    },
    {
      "metadata": {
        "id": "PDPYF36NGh-4",
        "colab_type": "text"
      },
      "cell_type": "markdown",
      "source": [
        "Finally here are some more string operations before we get started with programming. "
      ]
    },
    {
      "metadata": {
        "id": "pMp8Hz-wGo0L",
        "colab_type": "code",
        "colab": {
          "base_uri": "https://localhost:8080/",
          "height": 104
        },
        "outputId": "35180156-d2d3-40c8-ebd6-0dcc52573128"
      },
      "cell_type": "code",
      "source": [
        "#Printing variables in a specific format\n",
        "name = \"John\"\n",
        "age = 23\n",
        "print(\"%s is %d years old.\" % (name, age))\n",
        "\n",
        "#Indexing \n",
        "print(\"Second letter: \", my_string[1:2])\n",
        "print(\"Second letter to end: \", my_string[1:])\n",
        "print(my_string[1:2:3])\n",
        "\n",
        "#Counting \n",
        "print(\"numbers of 'i': \", my_string.count(\"i\"))"
      ],
      "execution_count": 45,
      "outputs": [
        {
          "output_type": "stream",
          "text": [
            "John is 23 years old.\n",
            "Second letter:  e\n",
            "Second letter to end:  emantic Computing\n",
            "e\n",
            "Counting 'i':  2\n"
          ],
          "name": "stdout"
        }
      ]
    },
    {
      "metadata": {
        "id": "wjWERhaDw9k2",
        "colab_type": "text"
      },
      "cell_type": "markdown",
      "source": [
        "# Lesson 1: The LESK algorithm \n",
        "\n",
        "Instrcuctions of tutorial 1 "
      ]
    },
    {
      "metadata": {
        "id": "FEaHj0r8HqUF",
        "colab_type": "code",
        "colab": {}
      },
      "cell_type": "code",
      "source": [
        "#Outcomment for the first time you run this cell only:\n",
        "#import nltk \n",
        "#nltk.download('book')\n",
        "\n",
        "from nltk.book import * \n",
        "from nltk.corpus import wordnet as wn\n",
        "from nltk.stem import PorterStemmer\n",
        "\n",
        "print(\"Length of text 2\", len(text2))\n",
        "print(\"Length of deduplicated text 2\", len(set(text2)))\n",
        "\n",
        "ps = PorterStemmer()\n",
        "\n",
        "#from google.colab import files\n",
        "#files.upload() \n",
        "\n",
        "text = open(\"text.txt\", \"r\")\n",
        "eval = open(\"evaluation.txt\", \"r\")\n",
        "\n",
        "def lesk(sentence, ambiguous_word):\n",
        "  max_overlaps = 0\n",
        "  lesk_dictionary = []\n",
        "  lesk_sense = \"\"\n",
        "  context = sentence.split()\n",
        "  \n",
        "  for sense in wn.synsets(ambiguous_word):\n",
        "    lesk_dictionary += sense.definition().split()\n",
        "    lesk_dictionary += sense.lemma_names()\n",
        "    \n",
        "    overlaps = set(lesk_dictionary).intersection(context)\n",
        "    \n",
        "    if len(overlaps) > max_overlaps:\n",
        "      lesk_sense = sense\n",
        "      max_overlaps = len(overlaps)\n",
        "    \n",
        "  return str(lesk_sense)\n",
        "\n",
        "results = dict()\n",
        "for result in eval.readlines()[1:]:\n",
        "    results[result.split(\";\")[1]] = result.split(\";\")[2]\n",
        "\n",
        "corr_results = 0\n",
        "lines = []\n",
        "for line in text.readlines()[1:]:\n",
        "  lines.append(line)\n",
        "  word = line.split(\";\")[0]\n",
        "  sentence = line.split(\";\")[2]\n",
        "  \n",
        "  line_result = lesk(sentence, word)\n",
        "  print(\"Input sentence: \", sentence, \"Target word: \", word, \"\\n\", \n",
        "        \"Actual synset: \", results[line.split(\";\")[1]].strip(), \", \n",
        "        Predicted synset: \", line_result.strip(), \"\\n\")\n",
        "\n",
        "  \n",
        "  if line_result and (results[line.split(\";\")[1]].strip() == line_result.strip()):\n",
        "    corr_results += 1\n",
        "\n",
        "print(\"Correct results: \", corr_results)\n",
        "print(\"Percentage: \", corr_results/len(results))"
      ],
      "execution_count": 0,
      "outputs": []
    }
  ]
}