{
  "nbformat": 4,
  "nbformat_minor": 0,
  "metadata": {
    "colab": {
      "name": "Tutorial1.ipynb",
      "version": "0.3.2",
      "provenance": [],
      "include_colab_link": true
    },
    "kernelspec": {
      "name": "python3",
      "display_name": "Python 3"
    }
  },
  "cells": [
    {
      "cell_type": "markdown",
      "metadata": {
        "id": "view-in-github",
        "colab_type": "text"
      },
      "source": [
        "[![Open In Colab](https://colab.research.google.com/assets/colab-badge.svg)](https://colab.research.google.com/github/dgromann/SemComp_WS2018/blob/master/Tutorial1_test.ipynb)"
      ]
    },
    {
      "metadata": {
        "id": "ZvZfzSn7bXVl",
        "colab_type": "text"
      },
      "cell_type": "markdown",
      "source": [
        "# Lesson 0.0.0: Store this notebook! \n",
        "\n",
        "Go to \"File\" and make sure you store this file as a local copy to either GitHub or your Google Drive. "
      ]
    },
    {
      "metadata": {
        "id": "jHzL2Qjivc0N",
        "colab_type": "text"
      },
      "cell_type": "markdown",
      "source": [
        "# Lesson 0.0: Hello World\n",
        "\n",
        "Everyone make their own cell, and print \"hello world\".\n",
        "\n",
        "1. Click on the cell below where you find my name. The cell will highlight.\n",
        "1. Click the \"+ CODE\" button in the header. This will create a cell in the next line.\n",
        "    * optional: keyboard shortcut: `CMD+M B`\n",
        "1. In this cell, enter:\n",
        "\n",
        "> ```python\n",
        "> # your name\n",
        "> print( \"Your name says \\\"Hello Semantic Computing group\\\"\"!\" )\n",
        "> #for example\n",
        ">  print( \"Dagmar says \\\"Hello Semantic Computing group\\\"\"!\" )\n",
        "> ```\n",
        "\n",
        "4. Click on the \"play\" button to the left of the cell. The first time you run a cell in a colab notebook it might take as long as 10-20 seconds to finish. After that, it's a lot faster.\n",
        "    * optional: keyboard shortcut: `SHIFT+ENTER`\n",
        "    \n",
        "-----------"
      ]
    },
    {
      "metadata": {
        "id": "1FdcGIjPuBYP",
        "colab_type": "text"
      },
      "cell_type": "markdown",
      "source": [
        "# Lesson 0.1: Python Basics\n",
        "\n",
        "Python is a programming language that uses indentation to structure statements into blocks, instead of brackets. Change the example below so that it can run correctly."
      ]
    },
    {
      "metadata": {
        "id": "nF_cL6UMusZG",
        "colab_type": "code",
        "colab": {}
      },
      "cell_type": "code",
      "source": [
        "x = 1\n",
        "if x == 1:\n",
        "print(\"x is 1.\"\")"
      ],
      "execution_count": 0,
      "outputs": []
    },
    {
      "metadata": {
        "id": "mC68rLi-u_KX",
        "colab_type": "text"
      },
      "cell_type": "markdown",
      "source": [
        "Variables and types in Python are very similar to other "
      ]
    },
    {
      "metadata": {
        "id": "wjWERhaDw9k2",
        "colab_type": "text"
      },
      "cell_type": "markdown",
      "source": [
        "# Lesson 1: The LESK algorithm \n",
        "\n",
        "Instrcuctions of tutorial 1 "
      ]
    },
    {
      "metadata": {
        "id": "FEaHj0r8HqUF",
        "colab_type": "code",
        "colab": {}
      },
      "cell_type": "code",
      "source": [
        "#Outcomment for the first time you run this cell only:\n",
        "#import nltk \n",
        "#nltk.download('book')\n",
        "\n",
        "from nltk.book import * \n",
        "from nltk.corpus import wordnet as wn\n",
        "from nltk.stem import PorterStemmer\n",
        "\n",
        "print(\"Length of text 2\", len(text2))\n",
        "print(\"Length of deduplicated text 2\", len(set(text2)))\n",
        "\n",
        "ps = PorterStemmer()\n",
        "\n",
        "#from google.colab import files\n",
        "#files.upload() \n",
        "\n",
        "text = open(\"text.txt\", \"r\")\n",
        "eval = open(\"evaluation.txt\", \"r\")\n",
        "\n",
        "def lesk(sentence, ambiguous_word):\n",
        "  max_overlaps = 0\n",
        "  lesk_dictionary = []\n",
        "  lesk_sense = \"\"\n",
        "  context = sentence.split()\n",
        "  \n",
        "  for sense in wn.synsets(ambiguous_word):\n",
        "    lesk_dictionary += sense.definition().split()\n",
        "    lesk_dictionary += sense.lemma_names()\n",
        "    \n",
        "    overlaps = set(lesk_dictionary).intersection(context)\n",
        "    \n",
        "    if len(overlaps) > max_overlaps:\n",
        "      lesk_sense = sense\n",
        "      max_overlaps = len(overlaps)\n",
        "    \n",
        "  return str(lesk_sense)\n",
        "\n",
        "results = dict()\n",
        "for result in eval.readlines()[1:]:\n",
        "    results[result.split(\";\")[1]] = result.split(\";\")[2]\n",
        "\n",
        "corr_results = 0\n",
        "lines = []\n",
        "for line in text.readlines()[1:]:\n",
        "  lines.append(line)\n",
        "  word = line.split(\";\")[0]\n",
        "  sentence = line.split(\";\")[2]\n",
        "  \n",
        "  line_result = lesk(sentence, word)\n",
        "  print(\"Input sentence: \", sentence, \"Target word: \", word, \"\\n\", \n",
        "        \"Actual synset: \", results[line.split(\";\")[1]].strip(), \", \n",
        "        Predicted synset: \", line_result.strip(), \"\\n\")\n",
        "\n",
        "  \n",
        "  if line_result and (results[line.split(\";\")[1]].strip() == line_result.strip()):\n",
        "    corr_results += 1\n",
        "\n",
        "print(\"Correct results: \", corr_results)\n",
        "print(\"Percentage: \", corr_results/len(results))"
      ],
      "execution_count": 0,
      "outputs": []
    }
  ]
}